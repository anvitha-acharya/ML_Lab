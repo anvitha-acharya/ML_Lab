{
 "cells": [
  {
   "cell_type": "code",
   "execution_count": 1,
   "id": "1ba4e51b-c6f8-40b6-9730-3644c188f353",
   "metadata": {},
   "outputs": [
    {
     "name": "stdout",
     "output_type": "stream",
     "text": [
      "Initial Data Sample:\n",
      "    Pregnancies  Glucose  BloodPressure  SkinThickness  Insulin   BMI  \\\n",
      "0            6      148             72             35        0  33.6   \n",
      "1            1       85             66             29        0  26.6   \n",
      "2            8      183             64              0        0  23.3   \n",
      "3            1       89             66             23       94  28.1   \n",
      "4            0      137             40             35      168  43.1   \n",
      "\n",
      "   DiabetesPedigreeFunction  Age  Outcome  \n",
      "0                     0.627   50        1  \n",
      "1                     0.351   31        0  \n",
      "2                     0.672   32        1  \n",
      "3                     0.167   21        0  \n",
      "4                     2.288   33        1  \n"
     ]
    }
   ],
   "source": [
    "import pandas as pd\n",
    "import numpy as np\n",
    "from collections import Counter\n",
    "from sklearn.model_selection import train_test_split\n",
    "from sklearn.metrics import accuracy_score\n",
    "from sklearn.preprocessing import MinMaxScaler\n",
    "\n",
    "# Load dataset\n",
    "url = \"https://raw.githubusercontent.com/jbrownlee/Datasets/master/pima-indians-diabetes.data.csv\"\n",
    "cols = ['Pregnancies', 'Glucose', 'BloodPressure', 'SkinThickness', 'Insulin', \n",
    "        'BMI', 'DiabetesPedigreeFunction', 'Age', 'Outcome']\n",
    "df = pd.read_csv(url, header=None, names=cols)\n",
    "\n",
    "print(\"Initial Data Sample:\\n\", df.head())\n"
   ]
  },
  {
   "cell_type": "code",
   "execution_count": 2,
   "id": "439b3c6b-66c4-4a16-b970-9ff102003eb7",
   "metadata": {},
   "outputs": [],
   "source": [
    "# Replace 0 with NaN for certain columns\n",
    "to_replace = ['Glucose', 'BloodPressure', 'SkinThickness', 'Insulin', 'BMI']\n",
    "df[to_replace] = df[to_replace].replace(0, np.nan)\n",
    "\n",
    "# Fill missing values with median\n",
    "df.fillna(df.median(numeric_only=True), inplace=True)\n",
    "\n",
    "# Normalize\n",
    "scaler = MinMaxScaler()\n",
    "features = df.drop('Outcome', axis=1)\n",
    "X = scaler.fit_transform(features)\n",
    "y = df['Outcome'].values\n",
    "\n",
    "# Split dataset\n",
    "X_train, X_test, y_train, y_test = train_test_split(X, y, test_size=0.2, random_state=42)\n"
   ]
  },
  {
   "cell_type": "code",
   "execution_count": 3,
   "id": "7b63ac92-3e52-497c-9d41-ce53afb3e17c",
   "metadata": {},
   "outputs": [],
   "source": [
    "def euclidean_distance(a, b):\n",
    "    return np.sqrt(np.sum((a - b) ** 2))\n",
    "\n",
    "def manhattan_distance(a, b):\n",
    "    return np.sum(np.abs(a - b))\n",
    "\n",
    "def knn_predict(X_train, y_train, x_test, k=5, metric='euclidean'):\n",
    "    distances = []\n",
    "    for i in range(len(X_train)):\n",
    "        dist = euclidean_distance(X_train[i], x_test) if metric == 'euclidean' else manhattan_distance(X_train[i], x_test)\n",
    "        distances.append((dist, y_train[i]))\n",
    "    distances.sort(key=lambda x: x[0])\n",
    "    k_nearest = [label for (_, label) in distances[:k]]\n",
    "    most_common = Counter(k_nearest).most_common(1)[0][0]\n",
    "    return most_common\n",
    "\n",
    "def knn_model(X_train, y_train, X_test, k=5, metric='euclidean'):\n",
    "    predictions = []\n",
    "    for x in X_test:\n",
    "        predictions.append(knn_predict(X_train, y_train, x, k=k, metric=metric))\n",
    "    return np.array(predictions)\n"
   ]
  },
  {
   "cell_type": "code",
   "execution_count": 4,
   "id": "5d6ce0cb-bf77-4ae3-be4b-b8a6b7497163",
   "metadata": {},
   "outputs": [
    {
     "name": "stdout",
     "output_type": "stream",
     "text": [
      "Accuracy (K=5, Euclidean): 0.7468\n"
     ]
    }
   ],
   "source": [
    "# Try with default K=5 and Euclidean distance\n",
    "y_pred = knn_model(X_train, y_train, X_test, k=5, metric='euclidean')\n",
    "print(f\"Accuracy (K=5, Euclidean): {accuracy_score(y_test, y_pred):.4f}\")\n"
   ]
  },
  {
   "cell_type": "code",
   "execution_count": 5,
   "id": "e4bb89f0-69d8-4ad0-bd4e-9888bb715023",
   "metadata": {},
   "outputs": [
    {
     "name": "stdout",
     "output_type": "stream",
     "text": [
      "K=3, Metric=euclidean, Accuracy=0.7208\n",
      "K=3, Metric=manhattan, Accuracy=0.7208\n",
      "K=5, Metric=euclidean, Accuracy=0.7468\n",
      "K=5, Metric=manhattan, Accuracy=0.7338\n",
      "K=7, Metric=euclidean, Accuracy=0.7468\n",
      "K=7, Metric=manhattan, Accuracy=0.7532\n",
      "K=9, Metric=euclidean, Accuracy=0.7597\n",
      "K=9, Metric=manhattan, Accuracy=0.7468\n",
      "K=11, Metric=euclidean, Accuracy=0.7468\n",
      "K=11, Metric=manhattan, Accuracy=0.7403\n"
     ]
    }
   ],
   "source": [
    "for k in [3, 5, 7, 9, 11]:\n",
    "    for metric in ['euclidean', 'manhattan']:\n",
    "        y_pred = knn_model(X_train, y_train, X_test, k=k, metric=metric)\n",
    "        acc = accuracy_score(y_test, y_pred)\n",
    "        print(f\"K={k}, Metric={metric}, Accuracy={acc:.4f}\")\n"
   ]
  }
 ],
 "metadata": {
  "kernelspec": {
   "display_name": "Python 3 (ipykernel)",
   "language": "python",
   "name": "python3"
  },
  "language_info": {
   "codemirror_mode": {
    "name": "ipython",
    "version": 3
   },
   "file_extension": ".py",
   "mimetype": "text/x-python",
   "name": "python",
   "nbconvert_exporter": "python",
   "pygments_lexer": "ipython3",
   "version": "3.10.12"
  }
 },
 "nbformat": 4,
 "nbformat_minor": 5
}
