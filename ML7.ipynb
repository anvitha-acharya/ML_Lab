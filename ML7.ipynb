{
 "cells": [
  {
   "cell_type": "markdown",
   "id": "3ccac620-6253-46b4-b5c4-377c1b544d86",
   "metadata": {},
   "source": [
    "7. Build a KNN model for predicting if a person will have diabetes or not with a high accuracy\n",
    "score. Perform some appropriate Pre-Processing steps on the given dataset for better results.\n",
    "Implement the KNN algorithm on your own. Try other possible processes that can be done to\n",
    "dataset and tuning the model to increase accuracy such as Increase K value, Normalization and\n",
    "Different Distance Metrics."
   ]
  },
  {
   "cell_type": "code",
   "execution_count": 1,
   "id": "1ba4e51b-c6f8-40b6-9730-3644c188f353",
   "metadata": {},
   "outputs": [],
   "source": [
    "import pandas as pd\n",
    "import numpy as np\n",
    "from sklearn.model_selection import train_test_split\n",
    "from sklearn.metrics import accuracy_score\n",
    "from sklearn.datasets import load_diabetes\n",
    "from sklearn.preprocessing import MinMaxScaler"
   ]
  },
  {
   "cell_type": "code",
   "execution_count": 2,
   "id": "90430e9f-344b-4e41-ac58-67f711cf4ec4",
   "metadata": {},
   "outputs": [
    {
     "data": {
      "text/html": [
       "<div>\n",
       "<style scoped>\n",
       "    .dataframe tbody tr th:only-of-type {\n",
       "        vertical-align: middle;\n",
       "    }\n",
       "\n",
       "    .dataframe tbody tr th {\n",
       "        vertical-align: top;\n",
       "    }\n",
       "\n",
       "    .dataframe thead th {\n",
       "        text-align: right;\n",
       "    }\n",
       "</style>\n",
       "<table border=\"1\" class=\"dataframe\">\n",
       "  <thead>\n",
       "    <tr style=\"text-align: right;\">\n",
       "      <th></th>\n",
       "      <th>0</th>\n",
       "      <th>1</th>\n",
       "      <th>2</th>\n",
       "      <th>3</th>\n",
       "      <th>4</th>\n",
       "      <th>5</th>\n",
       "      <th>6</th>\n",
       "      <th>7</th>\n",
       "      <th>8</th>\n",
       "      <th>9</th>\n",
       "    </tr>\n",
       "  </thead>\n",
       "  <tbody>\n",
       "    <tr>\n",
       "      <th>1</th>\n",
       "      <td>0.038076</td>\n",
       "      <td>0.050680</td>\n",
       "      <td>0.061696</td>\n",
       "      <td>0.021872</td>\n",
       "      <td>-0.044223</td>\n",
       "      <td>-0.034821</td>\n",
       "      <td>-0.043401</td>\n",
       "      <td>-0.002592</td>\n",
       "      <td>0.019907</td>\n",
       "      <td>-0.017646</td>\n",
       "    </tr>\n",
       "    <tr>\n",
       "      <th>0</th>\n",
       "      <td>-0.001882</td>\n",
       "      <td>-0.044642</td>\n",
       "      <td>-0.051474</td>\n",
       "      <td>-0.026328</td>\n",
       "      <td>-0.008449</td>\n",
       "      <td>-0.019163</td>\n",
       "      <td>0.074412</td>\n",
       "      <td>-0.039493</td>\n",
       "      <td>-0.068332</td>\n",
       "      <td>-0.092204</td>\n",
       "    </tr>\n",
       "    <tr>\n",
       "      <th>1</th>\n",
       "      <td>0.085299</td>\n",
       "      <td>0.050680</td>\n",
       "      <td>0.044451</td>\n",
       "      <td>-0.005670</td>\n",
       "      <td>-0.045599</td>\n",
       "      <td>-0.034194</td>\n",
       "      <td>-0.032356</td>\n",
       "      <td>-0.002592</td>\n",
       "      <td>0.002861</td>\n",
       "      <td>-0.025930</td>\n",
       "    </tr>\n",
       "    <tr>\n",
       "      <th>1</th>\n",
       "      <td>-0.089063</td>\n",
       "      <td>-0.044642</td>\n",
       "      <td>-0.011595</td>\n",
       "      <td>-0.036656</td>\n",
       "      <td>0.012191</td>\n",
       "      <td>0.024991</td>\n",
       "      <td>-0.036038</td>\n",
       "      <td>0.034309</td>\n",
       "      <td>0.022688</td>\n",
       "      <td>-0.009362</td>\n",
       "    </tr>\n",
       "    <tr>\n",
       "      <th>0</th>\n",
       "      <td>0.005383</td>\n",
       "      <td>-0.044642</td>\n",
       "      <td>-0.036385</td>\n",
       "      <td>0.021872</td>\n",
       "      <td>0.003935</td>\n",
       "      <td>0.015596</td>\n",
       "      <td>0.008142</td>\n",
       "      <td>-0.002592</td>\n",
       "      <td>-0.031988</td>\n",
       "      <td>-0.046641</td>\n",
       "    </tr>\n",
       "  </tbody>\n",
       "</table>\n",
       "</div>"
      ],
      "text/plain": [
       "          0         1         2         3         4         5         6  \\\n",
       "1  0.038076  0.050680  0.061696  0.021872 -0.044223 -0.034821 -0.043401   \n",
       "0 -0.001882 -0.044642 -0.051474 -0.026328 -0.008449 -0.019163  0.074412   \n",
       "1  0.085299  0.050680  0.044451 -0.005670 -0.045599 -0.034194 -0.032356   \n",
       "1 -0.089063 -0.044642 -0.011595 -0.036656  0.012191  0.024991 -0.036038   \n",
       "0  0.005383 -0.044642 -0.036385  0.021872  0.003935  0.015596  0.008142   \n",
       "\n",
       "          7         8         9  \n",
       "1 -0.002592  0.019907 -0.017646  \n",
       "0 -0.039493 -0.068332 -0.092204  \n",
       "1 -0.002592  0.002861 -0.025930  \n",
       "1  0.034309  0.022688 -0.009362  \n",
       "0 -0.002592 -0.031988 -0.046641  "
      ]
     },
     "execution_count": 2,
     "metadata": {},
     "output_type": "execute_result"
    }
   ],
   "source": [
    "# Load dataset\n",
    "data = load_diabetes()\n",
    "X = data.data\n",
    "y = (data.target > 140).astype(int)  #convert to classification as dataset is for regression\n",
    "df = pd.DataFrame(X,y)\n",
    "df.head()\n"
   ]
  },
  {
   "cell_type": "code",
   "execution_count": 3,
   "id": "439b3c6b-66c4-4a16-b970-9ff102003eb7",
   "metadata": {},
   "outputs": [],
   "source": [
    "#Preprocessing\n",
    "\n",
    "# Normalize\n",
    "scaler = MinMaxScaler()\n",
    "X = scaler.fit_transform(X)\n"
   ]
  },
  {
   "cell_type": "code",
   "execution_count": 4,
   "id": "2ce0ac15-28a6-4723-9e54-839c2355b7dc",
   "metadata": {},
   "outputs": [],
   "source": [
    "# Split dataset\n",
    "X_train, X_test, y_train, y_test = train_test_split(X, y, test_size=0.2, random_state=42)\n"
   ]
  },
  {
   "cell_type": "code",
   "execution_count": 7,
   "id": "7b63ac92-3e52-497c-9d41-ce53afb3e17c",
   "metadata": {},
   "outputs": [],
   "source": [
    "# Custom KNN Implementation\n",
    "def compute_distance(x1, x2, metric):\n",
    "    if metric == 'euclidean':\n",
    "        return np.sqrt(np.sum((x1 - x2) ** 2))\n",
    "    elif metric == 'manhattan':\n",
    "        return np.sum(np.abs(x1 - x2))\n",
    "    else:\n",
    "        raise ValueError(\"Unsupported distance metric\")\n",
    "\n",
    "def knn_predict(X_train, y_train, X_test, k=5, metric='euclidean'):\n",
    "    predictions = []\n",
    "    for test_point in X_test:\n",
    "        # Compute distances to all training points\n",
    "        distances = [compute_distance(test_point, x, metric) for x in X_train]\n",
    "        # Get indices of k-nearest neighbors\n",
    "        k_indices = np.argsort(distances)[:k]\n",
    "        # Get the labels of the k-nearest neighbors\n",
    "        k_labels = [y_train[i] for i in k_indices]\n",
    "        # Majority vote\n",
    "        predicted_label = int(np.round(np.mean(k_labels)))\n",
    "        predictions.append(predicted_label)\n",
    "    return np.array(predictions)\n"
   ]
  },
  {
   "cell_type": "code",
   "execution_count": 8,
   "id": "e4bb89f0-69d8-4ad0-bd4e-9888bb715023",
   "metadata": {},
   "outputs": [
    {
     "name": "stdout",
     "output_type": "stream",
     "text": [
      "K = 3, Metric = euclidean, Accuracy = 0.7191\n",
      "K = 3, Metric = manhattan, Accuracy = 0.7191\n",
      "K = 5, Metric = euclidean, Accuracy = 0.7079\n",
      "K = 5, Metric = manhattan, Accuracy = 0.7416\n",
      "K = 7, Metric = euclidean, Accuracy = 0.7191\n",
      "K = 7, Metric = manhattan, Accuracy = 0.7079\n",
      "K = 9, Metric = euclidean, Accuracy = 0.7079\n",
      "K = 9, Metric = manhattan, Accuracy = 0.6966\n",
      "K = 11, Metric = euclidean, Accuracy = 0.6966\n",
      "K = 11, Metric = manhattan, Accuracy = 0.7191\n"
     ]
    }
   ],
   "source": [
    "for k in [3, 5, 7, 9, 11]:\n",
    "    for metric in ['euclidean', 'manhattan']:\n",
    "        y_pred = knn_predict(X_train, y_train, X_test, k=k, metric=metric)\n",
    "        acc = accuracy_score(y_test, y_pred)\n",
    "        print(f\"K = {k}, Metric = {metric}, Accuracy = {acc:.4f}\")\n"
   ]
  }
 ],
 "metadata": {
  "kernelspec": {
   "display_name": "Python 3 (ipykernel)",
   "language": "python",
   "name": "python3"
  },
  "language_info": {
   "codemirror_mode": {
    "name": "ipython",
    "version": 3
   },
   "file_extension": ".py",
   "mimetype": "text/x-python",
   "name": "python",
   "nbconvert_exporter": "python",
   "pygments_lexer": "ipython3",
   "version": "3.10.12"
  }
 },
 "nbformat": 4,
 "nbformat_minor": 5
}
